{
  "nbformat": 4,
  "nbformat_minor": 0,
  "metadata": {
    "colab": {
      "name": "digit-segmentation.ipynb",
      "provenance": [],
      "collapsed_sections": [],
      "authorship_tag": "ABX9TyP61HLr6MfCrAuvQ6vx4lyq"
    },
    "kernelspec": {
      "name": "python3",
      "display_name": "Python 3"
    },
    "language_info": {
      "name": "python"
    },
    "accelerator": "GPU"
  },
  "cells": [
    {
      "cell_type": "markdown",
      "metadata": {
        "id": "CbQLDJR0pxgG"
      },
      "source": [
        "Import the usual stuff with a bunch of error checks"
      ]
    },
    {
      "cell_type": "code",
      "metadata": {
        "colab": {
          "base_uri": "https://localhost:8080/"
        },
        "id": "NY9IbwNWpnJb",
        "outputId": "36f73eca-0edd-4a03-c2af-744f06dec82e"
      },
      "source": [
        "try:\n",
        "  %tensorflow_version 2.x\n",
        "except Exception:\n",
        "  pass\n",
        "\n",
        "import os\n",
        "import zipfile\n",
        "\n",
        "import PIL.Image, PIL.ImageFont, PIL.ImageDraw\n",
        "import numpy as np\n",
        "from matplotlib import pyplot as plt\n",
        "\n",
        "import tensorflow as tf\n",
        "import tensorflow_datasets as tfds\n",
        "from sklearn.model_selection import train_test_split\n",
        "\n",
        "print(\"Tensorflow version \" + tf.__version__)"
      ],
      "execution_count": 1,
      "outputs": [
        {
          "output_type": "stream",
          "text": [
            "Tensorflow version 2.4.1\n"
          ],
          "name": "stdout"
        }
      ]
    },
    {
      "cell_type": "markdown",
      "metadata": {
        "id": "Nm-Ssj3gp7mv"
      },
      "source": [
        "Download the M2NIST dataset (since it has annotated digits)"
      ]
    },
    {
      "cell_type": "code",
      "metadata": {
        "colab": {
          "base_uri": "https://localhost:8080/"
        },
        "id": "7QpydYxTp2Ga",
        "outputId": "1bf72b66-fefc-404d-d781-d633d57149a7"
      },
      "source": [
        "# download zipped dataset\n",
        "!wget --no-check-certificate \\\n",
        "    https://storage.googleapis.com/laurencemoroney-blog.appspot.com/m2nist.zip \\\n",
        "    -O /tmp/m2nist.zip\n",
        "\n",
        "# find and extract to a local folder ('/tmp/training')\n",
        "local_zip = '/tmp/m2nist.zip'\n",
        "zip_ref = zipfile.ZipFile(local_zip, 'r')\n",
        "zip_ref.extractall('/tmp/training')\n",
        "zip_ref.close()"
      ],
      "execution_count": 2,
      "outputs": [
        {
          "output_type": "stream",
          "text": [
            "--2021-05-21 01:38:35--  https://storage.googleapis.com/laurencemoroney-blog.appspot.com/m2nist.zip\n",
            "Resolving storage.googleapis.com (storage.googleapis.com)... 172.217.8.16, 172.217.13.80, 172.217.15.80, ...\n",
            "Connecting to storage.googleapis.com (storage.googleapis.com)|172.217.8.16|:443... connected.\n",
            "HTTP request sent, awaiting response... 200 OK\n",
            "Length: 17378168 (17M) [application/zip]\n",
            "Saving to: ‘/tmp/m2nist.zip’\n",
            "\n",
            "/tmp/m2nist.zip     100%[===================>]  16.57M  89.8MB/s    in 0.2s    \n",
            "\n",
            "2021-05-21 01:38:35 (89.8 MB/s) - ‘/tmp/m2nist.zip’ saved [17378168/17378168]\n",
            "\n"
          ],
          "name": "stdout"
        }
      ]
    },
    {
      "cell_type": "markdown",
      "metadata": {
        "id": "rJvb2cK8qL_x"
      },
      "source": [
        "## Load and preprocess the dataset"
      ]
    },
    {
      "cell_type": "markdown",
      "metadata": {
        "id": "rm7gQVRxqPkG"
      },
      "source": [
        "This dataset can be easily preprocessed since it is available as **Numpy Array Files (.npy)**\n",
        "\n",
        "1. **combined.npy** has the image files containing the multiple MNIST digits. Each image is of size **64 x 84** (HxW).\n",
        "\n",
        "2. **segmented.npy** has the corresponding segmentation masks. Each segmentation mask is also of size **64 x 84**.\n",
        "\n",
        "This dataset has **5000** samples.\n",
        "\n",
        "I define a few utility functions for loading and preprocessing the dataset."
      ]
    },
    {
      "cell_type": "code",
      "metadata": {
        "id": "Jy_pw5I2-xLP"
      },
      "source": [
        "BATCH_SIZE = 32\n",
        "\n",
        "def read_image_and_annotation(image, annotation):\n",
        "  '''\n",
        "  Casts the image and annotation to their expected data type and\n",
        "  normalizes the input image so that each pixel is in the range [-1, 1]\n",
        "  Input:\n",
        "    -image (numpy array) -- input image\n",
        "    -annotation (numpy array) -- ground truth label map\n",
        "  Output:\n",
        "    -preprocessed image-annotation pair\n",
        "  '''\n",
        "\n",
        "  image = tf.cast(image, dtype=tf.float32)\n",
        "  image = tf.reshape(image, (image.shape[0], image.shape[1], 1,))\n",
        "  annotation = tf.cast(annotation, dtype=tf.int32)\n",
        "  image = image / 127.5\n",
        "  image -= 1\n",
        "\n",
        "  return image, annotation\n",
        "\n",
        "\n",
        "def get_training_dataset(images, annos):\n",
        "  '''\n",
        "  Prepares shuffled batches of the training set.\n",
        "  Input:\n",
        "    -images (list of strings) -- paths to each image file in the train set\n",
        "    -annos (list of strings) -- paths to each label map in the train set\n",
        "  Output:\n",
        "    TensorFlow dataset containing the preprocessed training set\n",
        "  '''\n",
        "  training_dataset = tf.data.Dataset.from_tensor_slices((images, annos))\n",
        "  training_dataset = training_dataset.map(read_image_and_annotation)\n",
        "\n",
        "  training_dataset = training_dataset.shuffle(512, reshuffle_each_iteration=True)\n",
        "  training_dataset = training_dataset.batch(BATCH_SIZE)\n",
        "  training_dataset = training_dataset.repeat()\n",
        "  training_dataset = training_dataset.prefetch(-1)\n",
        "\n",
        "  return training_dataset\n",
        "\n",
        "\n",
        "def get_validation_dataset(images, annos):\n",
        "  '''\n",
        "  Prepares batches of the validation set.\n",
        "  Input:\n",
        "    -images (list of strings) -- paths to each image file in the val set\n",
        "    -annos (list of strings) -- paths to each label map in the val set\n",
        "  Returns:\n",
        "    TensorFlow dataset containing the validation set\n",
        "  '''\n",
        "  validation_dataset = tf.data.Dataset.from_tensor_slices((images, annos))\n",
        "  validation_dataset = validation_dataset.map(read_image_and_annotation)\n",
        "  validation_dataset = validation_dataset.batch(BATCH_SIZE)\n",
        "  validation_dataset = validation_dataset.repeat()\n",
        "\n",
        "  return validation_dataset\n",
        "\n",
        "\n",
        "def get_test_dataset(images, annos):\n",
        "  '''\n",
        "  Prepares batches of the test set.\n",
        "  Input:\n",
        "    -images (list of strings) -- paths to each image file in the test set\n",
        "    -annos (list of strings) -- paths to each label map in the test set\n",
        "  Output:\n",
        "    TensorFlow dataset containing the preprocessed validation set\n",
        "  '''\n",
        "  test_dataset = tf.data.Dataset.from_tensor_slices((images, annos))\n",
        "  test_dataset = test_dataset.map(read_image_and_annotation)\n",
        "  test_dataset = test_dataset.batch(BATCH_SIZE, drop_remainder=True)\n",
        "\n",
        "  return test_dataset\n",
        "\n",
        "\n",
        "def load_images_and_segments():\n",
        "  '''\n",
        "  Loads the images and segments as numpy arrays from npy files \n",
        "  and makes splits for training, validation and test datasets.\n",
        "  Output:\n",
        "    3 tuples containing the train, val, and test splits\n",
        "  '''\n",
        "\n",
        "  #Loads images and segmentation masks.\n",
        "  images = np.load('/tmp/training/combined.npy')\n",
        "  segments = np.load('/tmp/training/segmented.npy')\n",
        "\n",
        "  #Makes training, validation, test splits from loaded images and segmentation masks.\n",
        "  train_images, val_images, train_annos, val_annos = train_test_split(images, segments, test_size=0.2, shuffle=True)\n",
        "  val_images, test_images, val_annos, test_annos = train_test_split(val_images, val_annos, test_size=0.2, shuffle=True)\n",
        "\n",
        "  return (train_images, train_annos), (val_images, val_annos), (test_images, test_annos)\n"
      ],
      "execution_count": 3,
      "outputs": []
    },
    {
      "cell_type": "markdown",
      "metadata": {
        "id": "fg0QJF-DruiS"
      },
      "source": [
        "Load the dataset and create the training and validation\n",
        "datasets"
      ]
    },
    {
      "cell_type": "code",
      "metadata": {
        "id": "7MpcyPqCrrGk"
      },
      "source": [
        "# Load Dataset\n",
        "train_slices, val_slices, test_slices = load_images_and_segments()\n",
        "\n",
        "# Create training, validation, test datasets.\n",
        "training_dataset = get_training_dataset(train_slices[0], train_slices[1])\n",
        "validation_dataset = get_validation_dataset(val_slices[0], val_slices[1])\n",
        "test_dataset = get_test_dataset(test_slices[0], test_slices[1])"
      ],
      "execution_count": 4,
      "outputs": []
    },
    {
      "cell_type": "markdown",
      "metadata": {
        "id": "DnWDZWuHr9PS"
      },
      "source": [
        "Visually inspect our dataset"
      ]
    },
    {
      "cell_type": "code",
      "metadata": {
        "cellView": "both",
        "id": "d46YCbvPafbp"
      },
      "source": [
        "# there are 11 classes in the dataset: one class for each digit (0 to 9) plus the background class\n",
        "n_classes = 11\n",
        "\n",
        "# assign a random color for each class\n",
        "colors = [tuple(np.random.randint(256, size=3) / 255.0) for i in range(n_classes)]\n",
        "\n",
        "def fuse_with_pil(images):\n",
        "  '''\n",
        "  Creates a blank image and pastes input images\n",
        "  Input:\n",
        "    -images (list of numpy arrays) - numpy array representations of the images to paste\n",
        "  Output:\n",
        "    -PIL Image object containing the images\n",
        "  '''\n",
        "\n",
        "  widths = (image.shape[1] for image in images)\n",
        "  heights = (image.shape[0] for image in images)\n",
        "  total_width = sum(widths)\n",
        "  max_height = max(heights)\n",
        "\n",
        "  new_im = PIL.Image.new('RGB', (total_width, max_height))\n",
        "\n",
        "  x_offset = 0\n",
        "  for im in images:\n",
        "    pil_image = PIL.Image.fromarray(np.uint8(im))\n",
        "    new_im.paste(pil_image, (x_offset,0))\n",
        "    x_offset += im.shape[1]\n",
        "  \n",
        "  return new_im\n",
        "\n",
        "\n",
        "def give_color_to_annotation(annotation):\n",
        "  '''\n",
        "  Converts a 2-D annotation to a numpy array with shape (height, width, 3) where\n",
        "  the third axis represents the color channel. The label values are multiplied by\n",
        "  255 and placed in this axis to give color to the annotation\n",
        "  Input:\n",
        "    -annotation (numpy array) - label map array\n",
        "  Output:\n",
        "    -the annotation array with an additional color channel/axis\n",
        "  '''\n",
        "  seg_img = np.zeros( (annotation.shape[0],annotation.shape[1], 3) ).astype('float')\n",
        "  \n",
        "  for c in range(n_classes):\n",
        "    segc = (annotation == c)\n",
        "    seg_img[:,:,0] += segc*( colors[c][0] * 255.0)\n",
        "    seg_img[:,:,1] += segc*( colors[c][1] * 255.0)\n",
        "    seg_img[:,:,2] += segc*( colors[c][2] * 255.0)\n",
        "  \n",
        "  return seg_img\n",
        "\n",
        "\n",
        "def show_annotation_and_prediction(image, annotation, prediction, iou_list, dice_score_list):\n",
        "  '''\n",
        "  Displays the images with the ground truth and predicted label maps and overlays the metrics.\n",
        "  Input:\n",
        "    -image (numpy array) -- the input image\n",
        "    -annotation (numpy array) -- the ground truth label map\n",
        "    -prediction (numpy array) -- the predicted label map\n",
        "    -iou_list (list of floats) -- the IOU values for each class\n",
        "    -dice_score_list (list of floats) -- the Dice Score for each class\n",
        "  '''\n",
        "\n",
        "  new_ann = np.argmax(annotation, axis=2)\n",
        "  true_img = give_color_to_annotation(new_ann)\n",
        "  pred_img = give_color_to_annotation(prediction)\n",
        "\n",
        "  image = image + 1\n",
        "  image = image * 127.5\n",
        "  image = np.reshape(image, (image.shape[0], image.shape[1],))\n",
        "  image = np.uint8(image)\n",
        "  images = [image, np.uint8(pred_img), np.uint8(true_img)]\n",
        "\n",
        "  metrics_by_id = [(idx, iou, dice_score) for idx, (iou, dice_score) in enumerate(zip(iou_list, dice_score_list)) if iou > 0.0 and idx < 10]\n",
        "  metrics_by_id.sort(key=lambda tup: tup[1], reverse=True)  # sorts in place\n",
        "\n",
        "  display_string_list = [\"{}: IOU: {} Dice Score: {}\".format(idx, iou, dice_score) for idx, iou, dice_score in metrics_by_id]\n",
        "  display_string = \"\\n\".join(display_string_list)\n",
        "\n",
        "  plt.figure(figsize=(15, 4))\n",
        "\n",
        "  for idx, im in enumerate(images):\n",
        "    plt.subplot(1, 3, idx+1)\n",
        "    if idx == 1:\n",
        "      plt.xlabel(display_string)\n",
        "    plt.xticks([])\n",
        "    plt.yticks([])\n",
        "    plt.imshow(im)\n",
        "\n",
        "\n",
        "def show_annotation_and_image(image, annotation):\n",
        "  '''\n",
        "  Displays the image and its annotation side by side\n",
        "  Input:\n",
        "    -image (numpy array) -- the input image\n",
        "    -annotation (numpy array) -- the label map\n",
        "  '''\n",
        "  new_ann = np.argmax(annotation, axis=2)\n",
        "  seg_img = give_color_to_annotation(new_ann)\n",
        "  \n",
        "  image = image + 1\n",
        "  image = image * 127.5\n",
        "  image = np.reshape(image, (image.shape[0], image.shape[1],))\n",
        "\n",
        "  image = np.uint8(image)\n",
        "  images = [image, seg_img]\n",
        "  \n",
        "  images = [image, seg_img]\n",
        "  fused_img = fuse_with_pil(images)\n",
        "  plt.imshow(fused_img)\n",
        "\n",
        "\n",
        "def list_show_annotation(dataset, num_images):\n",
        "  '''\n",
        "  Displays images and its annotations side by side\n",
        "  Input:\n",
        "    -dataset (tf Dataset) -- batch of images and annotations\n",
        "    -num_images (int) -- number of images to display\n",
        "  '''\n",
        "  ds = dataset.unbatch()\n",
        "\n",
        "  plt.figure(figsize=(20, 15))\n",
        "  plt.title(\"Images And Annotations\")\n",
        "  plt.subplots_adjust(bottom=0.1, top=0.9, hspace=0.05)\n",
        "\n",
        "  for idx, (image, annotation) in enumerate(ds.take(num_images)):\n",
        "    plt.subplot(5, 5, idx + 1)\n",
        "    plt.yticks([])\n",
        "    plt.xticks([])\n",
        "    show_annotation_and_image(image.numpy(), annotation.numpy())\n"
      ],
      "execution_count": 5,
      "outputs": []
    },
    {
      "cell_type": "markdown",
      "metadata": {
        "id": "Gv-nO2PstZV5"
      },
      "source": [
        "Display 10 (random) images from our training dataset"
      ]
    },
    {
      "cell_type": "code",
      "metadata": {
        "colab": {
          "base_uri": "https://localhost:8080/",
          "height": 282
        },
        "id": "fLURpDdctfT3",
        "outputId": "46d40416-4679-4e17-d63b-63057ce0a9fa"
      },
      "source": [
        "# get 10 images from the training set\n",
        "list_show_annotation(training_dataset, 10)"
      ],
      "execution_count": 6,
      "outputs": [
        {
          "output_type": "display_data",
          "data": {
            "image/png": "[encoded data removed]",
            "text/plain": [
              "<Figure size 1440x1080 with 10 Axes>"
            ]
          },
          "metadata": {
            "tags": []
          }
        }
      ]
    },
    {
      "cell_type": "markdown",
      "metadata": {
        "id": "hkI1WEdNtqbY"
      },
      "source": [
        "Display 10 (random) images from our validation dataset"
      ]
    },
    {
      "cell_type": "code",
      "metadata": {
        "colab": {
          "base_uri": "https://localhost:8080/",
          "height": 282
        },
        "id": "HvblsOT3tqAG",
        "outputId": "62cd9a2b-312a-462f-db77-08c47c25566e"
      },
      "source": [
        "# get 10 images from the validation set\n",
        "list_show_annotation(validation_dataset, 10)"
      ],
      "execution_count": 7,
      "outputs": [
        {
          "output_type": "display_data",
          "data": {
            "image/png": "[encoded data removed]",
            "text/plain": [
              "<Figure size 1440x1080 with 10 Axes>"
            ]
          },
          "metadata": {
            "tags": []
          }
        }
      ]
    },
    {
      "cell_type": "markdown",
      "metadata": {
        "id": "3VGFxfDVt4hq"
      },
      "source": [
        "## Define the basic convolutional block"
      ]
    },
    {
      "cell_type": "code",
      "metadata": {
        "id": "prCSvJX2t_Ko"
      },
      "source": [
        "# parameter describing where the channel dimension is found in our dataset\n",
        "IMAGE_ORDERING = 'channels_last'\n",
        "\n",
        "def conv_block(input, filters, strides, pooling_size, pool_strides):\n",
        "  '''\n",
        "  Input:\n",
        "    -input (tensor) -- batch of images or features\n",
        "    -filters (int) -- number of filters of the Conv2D layers\n",
        "    -strides (int) -- strides setting of the Conv2D layers\n",
        "    -pooling_size (int) -- pooling size of the MaxPooling2D layers\n",
        "    -pool_strides (int) -- strides setting of the MaxPooling2D layers\n",
        "  \n",
        "  Output:\n",
        "    -(tensor) max pooled and batch-normalized features of the input \n",
        "  '''\n",
        "  x = tf.keras.layers.Conv2D(filters, strides, padding='same', data_format=IMAGE_ORDERING)(input)\n",
        "  x = tf.keras.layers.LeakyReLU()(x)\n",
        "  x = tf.keras.layers.Conv2D(filters, strides, padding='same', data_format=IMAGE_ORDERING)(x)\n",
        "  x = tf.keras.layers.LeakyReLU()(x)\n",
        "  x = tf.keras.layers.MaxPooling2D(2)(x)\n",
        "  x = tf.keras.layers.BatchNormalization()(x)\n",
        "\n",
        "  return x"
      ],
      "execution_count": 8,
      "outputs": []
    },
    {
      "cell_type": "markdown",
      "metadata": {
        "id": "5YePsylQukpT"
      },
      "source": [
        "Visualise the model"
      ]
    },
    {
      "cell_type": "code",
      "metadata": {
        "colab": {
          "base_uri": "https://localhost:8080/"
        },
        "id": "90RY1R1GugIx",
        "outputId": "c70c940e-9267-40c9-a122-69d1043167c7"
      },
      "source": [
        "#debug stuff \n",
        "\n",
        "test_input = tf.keras.layers.Input(shape=(64,84, 1))\n",
        "test_output = conv_block(test_input, 32, 3, 2, 2)\n",
        "test_model = tf.keras.Model(inputs=test_input, outputs=test_output)\n",
        "\n",
        "print(test_model.summary())\n",
        "\n",
        "# free up test resources\n",
        "del test_input, test_output, test_model"
      ],
      "execution_count": 9,
      "outputs": [
        {
          "output_type": "stream",
          "text": [
            "Model: \"model\"\n",
            "_________________________________________________________________\n",
            "Layer (type)                 Output Shape              Param #   \n",
            "=================================================================\n",
            "input_1 (InputLayer)         [(None, 64, 84, 1)]       0         \n",
            "_________________________________________________________________\n",
            "conv2d (Conv2D)              (None, 64, 84, 32)        320       \n",
            "_________________________________________________________________\n",
            "leaky_re_lu (LeakyReLU)      (None, 64, 84, 32)        0         \n",
            "_________________________________________________________________\n",
            "conv2d_1 (Conv2D)            (None, 64, 84, 32)        9248      \n",
            "_________________________________________________________________\n",
            "leaky_re_lu_1 (LeakyReLU)    (None, 64, 84, 32)        0         \n",
            "_________________________________________________________________\n",
            "max_pooling2d (MaxPooling2D) (None, 32, 42, 32)        0         \n",
            "_________________________________________________________________\n",
            "batch_normalization (BatchNo (None, 32, 42, 32)        128       \n",
            "=================================================================\n",
            "Total params: 9,696\n",
            "Trainable params: 9,632\n",
            "Non-trainable params: 64\n",
            "_________________________________________________________________\n",
            "None\n"
          ],
          "name": "stdout"
        }
      ]
    },
    {
      "cell_type": "markdown",
      "metadata": {
        "id": "dDIsr6nHuthL"
      },
      "source": [
        "## Define the downsampling path"
      ]
    },
    {
      "cell_type": "markdown",
      "metadata": {
        "id": "kVpODOo8u4WP"
      },
      "source": [
        "Uses the FCN8 (fully convolutional network) architecture model"
      ]
    },
    {
      "cell_type": "code",
      "metadata": {
        "id": "6sQCuKdButHO"
      },
      "source": [
        "def FCN8(input_height=64, input_width=84):\n",
        "    '''\n",
        "    Defines the downsampling path of the image segmentation model.\n",
        "    Input:\n",
        "      -input_height (int) -- height of the images\n",
        "      -width (int) -- width of the images\n",
        "    Output:\n",
        "      -tuple of tensors -- features extracted at blocks 3 to 5\n",
        "      -tensor -- copy of the input\n",
        "    '''\n",
        "   \n",
        "    img_input = tf.keras.layers.Input(shape=(input_height,input_width, 1))\n",
        "    \n",
        "    # pad the input image to have dimensions to the nearest power of two\n",
        "    x = tf.keras.layers.ZeroPadding2D(padding=(0,6))(img_input) \n",
        "\n",
        "    # Block 1\n",
        "    x = conv_block(x, 32, 2, 2, 2)\n",
        "    \n",
        "    # Block 2\n",
        "    x = conv_block(x, 64, 2, 2, 2)\n",
        "\n",
        "    # Block 3\n",
        "    x = conv_block(x, 128, 3, 2, 2)\n",
        "\n",
        "    # save the feature map at this stage\n",
        "    f3 = x\n",
        "\n",
        "    # Block 4\n",
        "    x = conv_block(x, 256, 3, 2, 2)\n",
        "\n",
        "    # save the feature map at this stage\n",
        "    f4 = x\n",
        "\n",
        "    # Block 5\n",
        "    x = conv_block(x, 256, 3, 2, 2)\n",
        "\n",
        "    # save the feature map at this stage\n",
        "    f5 = x\n",
        "  \n",
        "    return (f3, f4, f5), img_input"
      ],
      "execution_count": 10,
      "outputs": []
    },
    {
      "cell_type": "markdown",
      "metadata": {
        "id": "Q-jsSLrhvRrU"
      },
      "source": [
        "Visualize the model"
      ]
    },
    {
      "cell_type": "code",
      "metadata": {
        "colab": {
          "base_uri": "https://localhost:8080/"
        },
        "id": "T1GYcaxdvUkX",
        "outputId": "c496e6fa-72e2-45d8-c719-8c5cf411db7f"
      },
      "source": [
        "test_convs, test_img_input = FCN8()\n",
        "test_model = tf.keras.Model(inputs=test_img_input, outputs=[test_convs, test_img_input])\n",
        "\n",
        "print(test_model.summary())\n",
        "\n",
        "del test_convs, test_img_input, test_model"
      ],
      "execution_count": 34,
      "outputs": [
        {
          "output_type": "stream",
          "text": [
            "Model: \"model_4\"\n",
            "_________________________________________________________________\n",
            "Layer (type)                 Output Shape              Param #   \n",
            "=================================================================\n",
            "input_6 (InputLayer)         [(None, 64, 84, 1)]       0         \n",
            "_________________________________________________________________\n",
            "zero_padding2d_3 (ZeroPaddin (None, 64, 96, 1)         0         \n",
            "_________________________________________________________________\n",
            "conv2d_40 (Conv2D)           (None, 64, 96, 32)        160       \n",
            "_________________________________________________________________\n",
            "leaky_re_lu_34 (LeakyReLU)   (None, 64, 96, 32)        0         \n",
            "_________________________________________________________________\n",
            "conv2d_41 (Conv2D)           (None, 64, 96, 32)        4128      \n",
            "_________________________________________________________________\n",
            "leaky_re_lu_35 (LeakyReLU)   (None, 64, 96, 32)        0         \n",
            "_________________________________________________________________\n",
            "max_pooling2d_17 (MaxPooling (None, 32, 48, 32)        0         \n",
            "_________________________________________________________________\n",
            "batch_normalization_17 (Batc (None, 32, 48, 32)        128       \n",
            "_________________________________________________________________\n",
            "conv2d_42 (Conv2D)           (None, 32, 48, 64)        8256      \n",
            "_________________________________________________________________\n",
            "leaky_re_lu_36 (LeakyReLU)   (None, 32, 48, 64)        0         \n",
            "_________________________________________________________________\n",
            "conv2d_43 (Conv2D)           (None, 32, 48, 64)        16448     \n",
            "_________________________________________________________________\n",
            "leaky_re_lu_37 (LeakyReLU)   (None, 32, 48, 64)        0         \n",
            "_________________________________________________________________\n",
            "max_pooling2d_18 (MaxPooling (None, 16, 24, 64)        0         \n",
            "_________________________________________________________________\n",
            "batch_normalization_18 (Batc (None, 16, 24, 64)        256       \n",
            "_________________________________________________________________\n",
            "conv2d_44 (Conv2D)           (None, 16, 24, 128)       73856     \n",
            "_________________________________________________________________\n",
            "leaky_re_lu_38 (LeakyReLU)   (None, 16, 24, 128)       0         \n",
            "_________________________________________________________________\n",
            "conv2d_45 (Conv2D)           (None, 16, 24, 128)       147584    \n",
            "_________________________________________________________________\n",
            "leaky_re_lu_39 (LeakyReLU)   (None, 16, 24, 128)       0         \n",
            "_________________________________________________________________\n",
            "max_pooling2d_19 (MaxPooling (None, 8, 12, 128)        0         \n",
            "_________________________________________________________________\n",
            "batch_normalization_19 (Batc (None, 8, 12, 128)        512       \n",
            "_________________________________________________________________\n",
            "conv2d_46 (Conv2D)           (None, 8, 12, 256)        295168    \n",
            "_________________________________________________________________\n",
            "leaky_re_lu_40 (LeakyReLU)   (None, 8, 12, 256)        0         \n",
            "_________________________________________________________________\n",
            "conv2d_47 (Conv2D)           (None, 8, 12, 256)        590080    \n",
            "_________________________________________________________________\n",
            "leaky_re_lu_41 (LeakyReLU)   (None, 8, 12, 256)        0         \n",
            "_________________________________________________________________\n",
            "max_pooling2d_20 (MaxPooling (None, 4, 6, 256)         0         \n",
            "_________________________________________________________________\n",
            "batch_normalization_20 (Batc (None, 4, 6, 256)         1024      \n",
            "_________________________________________________________________\n",
            "conv2d_48 (Conv2D)           (None, 4, 6, 256)         590080    \n",
            "_________________________________________________________________\n",
            "leaky_re_lu_42 (LeakyReLU)   (None, 4, 6, 256)         0         \n",
            "_________________________________________________________________\n",
            "conv2d_49 (Conv2D)           (None, 4, 6, 256)         590080    \n",
            "_________________________________________________________________\n",
            "leaky_re_lu_43 (LeakyReLU)   (None, 4, 6, 256)         0         \n",
            "_________________________________________________________________\n",
            "max_pooling2d_21 (MaxPooling (None, 2, 3, 256)         0         \n",
            "_________________________________________________________________\n",
            "batch_normalization_21 (Batc (None, 2, 3, 256)         1024      \n",
            "=================================================================\n",
            "Total params: 2,318,784\n",
            "Trainable params: 2,317,312\n",
            "Non-trainable params: 1,472\n",
            "_________________________________________________________________\n",
            "None\n"
          ],
          "name": "stdout"
        }
      ]
    },
    {
      "cell_type": "markdown",
      "metadata": {
        "id": "-nYny-kGvdrn"
      },
      "source": [
        "Define the FCN8 decoder"
      ]
    },
    {
      "cell_type": "code",
      "metadata": {
        "id": "giYEct_Se5Xj"
      },
      "source": [
        "def fcn8_decoder(convs, n_classes):\n",
        "  # features from the encoder stage\n",
        "  f3, f4, f5 = convs\n",
        "\n",
        "  # number of filters\n",
        "  n = 512\n",
        "\n",
        "  # add convolutional layers on top of the CNN extractor.\n",
        "  o = tf.keras.layers.Conv2D(n , (7 , 7) , activation='relu' , padding='same', name=\"conv6\", data_format=IMAGE_ORDERING)(f5)\n",
        "  o = tf.keras.layers.Dropout(0.5)(o)\n",
        "\n",
        "  o = tf.keras.layers.Conv2D(n , (1 , 1) , activation='relu' , padding='same', name=\"conv7\", data_format=IMAGE_ORDERING)(o)\n",
        "  o = tf.keras.layers.Dropout(0.5)(o)\n",
        "\n",
        "  o = tf.keras.layers.Conv2D(n_classes,  (1, 1), activation='relu' , padding='same', data_format=IMAGE_ORDERING)(o)\n",
        "    \n",
        "  # upsample the output of the encoder then crop extra pixels that were introduced\n",
        "  o = tf.keras.layers.Conv2DTranspose(n_classes , kernel_size=(4,4) ,  strides=(2,2) , use_bias=False )(f5)\n",
        "  o = tf.keras.layers.Cropping2D(cropping=(1,1))(o)\n",
        "\n",
        "  # load the pool 4 prediction and do a 1x1 convolution to reshape it to the same shape of `o` above\n",
        "  o2 = f4\n",
        "  o2 = ( tf.keras.layers.Conv2D(n_classes , ( 1 , 1 ) , activation='relu' , padding='same'))(o2)\n",
        "\n",
        "  # add the results of the upsampling and pool 4 prediction\n",
        "  o = tf.keras.layers.Add()([o, o2])\n",
        "\n",
        "  # upsample the resulting tensor \n",
        "  o = (tf.keras.layers.Conv2DTranspose( n_classes , kernel_size=(4,4) ,  strides=(2,2) , use_bias=False ))(o)\n",
        "  o = tf.keras.layers.Cropping2D(cropping=(1, 1))(o)\n",
        "\n",
        "  # load the pool 3 prediction and do a 1x1 convolution to reshape it to the same shape of `o` above\n",
        "  o2 = f3\n",
        "  o2 = ( tf.keras.layers.Conv2D(n_classes , ( 1 , 1 ) , activation='relu' , padding='same'))(o2)\n",
        "\n",
        "  # add the results of the upsampling and pool 3 prediction\n",
        "  o = tf.keras.layers.Add()([o, o2])\n",
        "\n",
        "  # upsample up to the size of the original image\n",
        "  o = tf.keras.layers.Conv2DTranspose(n_classes , kernel_size=(8,8) ,  strides=(8,8) , use_bias=False )(o)\n",
        "  o = tf.keras.layers.Cropping2D(((0, 0), (0, 96-84)))(o)\n",
        "\n",
        "  # append a sigmoid activation\n",
        "  o = (tf.keras.layers.Activation('softmax'))(o)  \n",
        "\n",
        "\n",
        "  return o"
      ],
      "execution_count": 11,
      "outputs": []
    },
    {
      "cell_type": "markdown",
      "metadata": {
        "id": "U7rQWhj6vqD_"
      },
      "source": [
        "Check the dimension of the decoder"
      ]
    },
    {
      "cell_type": "code",
      "metadata": {
        "colab": {
          "base_uri": "https://localhost:8080/"
        },
        "id": "sBzhfVzOvvNA",
        "outputId": "edcb39b7-6e6a-4c92-9be6-655c560a61c2"
      },
      "source": [
        "test_convs, test_img_input = FCN8()\n",
        "test_fcn8_decoder = fcn8_decoder(test_convs, 11)\n",
        "\n",
        "print(test_fcn8_decoder.shape)\n",
        "\n",
        "del test_convs, test_img_input, test_fcn8_decoder"
      ],
      "execution_count": 12,
      "outputs": [
        {
          "output_type": "stream",
          "text": [
            "(None, 64, 84, 11)\n"
          ],
          "name": "stdout"
        }
      ]
    },
    {
      "cell_type": "markdown",
      "metadata": {
        "id": "d6yb4hmtvz-Q"
      },
      "source": [
        "## Define the complete model"
      ]
    },
    {
      "cell_type": "code",
      "metadata": {
        "id": "ybMT4NguvzNa"
      },
      "source": [
        "# start the encoder using the default input size 64 x 84\n",
        "convs, img_input = FCN8()\n",
        "\n",
        "# pass the convolutions obtained in the encoder to the decoder\n",
        "dec_op = fcn8_decoder(convs, n_classes)\n",
        "\n",
        "# define the model specifying the input (batch of images) and output (decoder output)\n",
        "model = tf.keras.Model(inputs = img_input, outputs = dec_op)"
      ],
      "execution_count": 13,
      "outputs": []
    },
    {
      "cell_type": "markdown",
      "metadata": {
        "id": "L8TE028wv96L"
      },
      "source": [
        "## Summarize the complete model"
      ]
    },
    {
      "cell_type": "code",
      "metadata": {
        "colab": {
          "base_uri": "https://localhost:8080/"
        },
        "id": "MUZHpGDDwBM1",
        "outputId": "6f04af06-a7f1-40ea-dd73-511f8e3f8988"
      },
      "source": [
        "model.summary()"
      ],
      "execution_count": 14,
      "outputs": [
        {
          "output_type": "stream",
          "text": [
            "Model: \"model_1\"\n",
            "__________________________________________________________________________________________________\n",
            "Layer (type)                    Output Shape         Param #     Connected to                     \n",
            "==================================================================================================\n",
            "input_3 (InputLayer)            [(None, 64, 84, 1)]  0                                            \n",
            "__________________________________________________________________________________________________\n",
            "zero_padding2d_1 (ZeroPadding2D (None, 64, 96, 1)    0           input_3[0][0]                    \n",
            "__________________________________________________________________________________________________\n",
            "conv2d_15 (Conv2D)              (None, 64, 96, 32)   160         zero_padding2d_1[0][0]           \n",
            "__________________________________________________________________________________________________\n",
            "leaky_re_lu_12 (LeakyReLU)      (None, 64, 96, 32)   0           conv2d_15[0][0]                  \n",
            "__________________________________________________________________________________________________\n",
            "conv2d_16 (Conv2D)              (None, 64, 96, 32)   4128        leaky_re_lu_12[0][0]             \n",
            "__________________________________________________________________________________________________\n",
            "leaky_re_lu_13 (LeakyReLU)      (None, 64, 96, 32)   0           conv2d_16[0][0]                  \n",
            "__________________________________________________________________________________________________\n",
            "max_pooling2d_6 (MaxPooling2D)  (None, 32, 48, 32)   0           leaky_re_lu_13[0][0]             \n",
            "__________________________________________________________________________________________________\n",
            "batch_normalization_6 (BatchNor (None, 32, 48, 32)   128         max_pooling2d_6[0][0]            \n",
            "__________________________________________________________________________________________________\n",
            "conv2d_17 (Conv2D)              (None, 32, 48, 64)   8256        batch_normalization_6[0][0]      \n",
            "__________________________________________________________________________________________________\n",
            "leaky_re_lu_14 (LeakyReLU)      (None, 32, 48, 64)   0           conv2d_17[0][0]                  \n",
            "__________________________________________________________________________________________________\n",
            "conv2d_18 (Conv2D)              (None, 32, 48, 64)   16448       leaky_re_lu_14[0][0]             \n",
            "__________________________________________________________________________________________________\n",
            "leaky_re_lu_15 (LeakyReLU)      (None, 32, 48, 64)   0           conv2d_18[0][0]                  \n",
            "__________________________________________________________________________________________________\n",
            "max_pooling2d_7 (MaxPooling2D)  (None, 16, 24, 64)   0           leaky_re_lu_15[0][0]             \n",
            "__________________________________________________________________________________________________\n",
            "batch_normalization_7 (BatchNor (None, 16, 24, 64)   256         max_pooling2d_7[0][0]            \n",
            "__________________________________________________________________________________________________\n",
            "conv2d_19 (Conv2D)              (None, 16, 24, 128)  73856       batch_normalization_7[0][0]      \n",
            "__________________________________________________________________________________________________\n",
            "leaky_re_lu_16 (LeakyReLU)      (None, 16, 24, 128)  0           conv2d_19[0][0]                  \n",
            "__________________________________________________________________________________________________\n",
            "conv2d_20 (Conv2D)              (None, 16, 24, 128)  147584      leaky_re_lu_16[0][0]             \n",
            "__________________________________________________________________________________________________\n",
            "leaky_re_lu_17 (LeakyReLU)      (None, 16, 24, 128)  0           conv2d_20[0][0]                  \n",
            "__________________________________________________________________________________________________\n",
            "max_pooling2d_8 (MaxPooling2D)  (None, 8, 12, 128)   0           leaky_re_lu_17[0][0]             \n",
            "__________________________________________________________________________________________________\n",
            "batch_normalization_8 (BatchNor (None, 8, 12, 128)   512         max_pooling2d_8[0][0]            \n",
            "__________________________________________________________________________________________________\n",
            "conv2d_21 (Conv2D)              (None, 8, 12, 256)   295168      batch_normalization_8[0][0]      \n",
            "__________________________________________________________________________________________________\n",
            "leaky_re_lu_18 (LeakyReLU)      (None, 8, 12, 256)   0           conv2d_21[0][0]                  \n",
            "__________________________________________________________________________________________________\n",
            "conv2d_22 (Conv2D)              (None, 8, 12, 256)   590080      leaky_re_lu_18[0][0]             \n",
            "__________________________________________________________________________________________________\n",
            "leaky_re_lu_19 (LeakyReLU)      (None, 8, 12, 256)   0           conv2d_22[0][0]                  \n",
            "__________________________________________________________________________________________________\n",
            "max_pooling2d_9 (MaxPooling2D)  (None, 4, 6, 256)    0           leaky_re_lu_19[0][0]             \n",
            "__________________________________________________________________________________________________\n",
            "batch_normalization_9 (BatchNor (None, 4, 6, 256)    1024        max_pooling2d_9[0][0]            \n",
            "__________________________________________________________________________________________________\n",
            "conv2d_23 (Conv2D)              (None, 4, 6, 256)    590080      batch_normalization_9[0][0]      \n",
            "__________________________________________________________________________________________________\n",
            "leaky_re_lu_20 (LeakyReLU)      (None, 4, 6, 256)    0           conv2d_23[0][0]                  \n",
            "__________________________________________________________________________________________________\n",
            "conv2d_24 (Conv2D)              (None, 4, 6, 256)    590080      leaky_re_lu_20[0][0]             \n",
            "__________________________________________________________________________________________________\n",
            "leaky_re_lu_21 (LeakyReLU)      (None, 4, 6, 256)    0           conv2d_24[0][0]                  \n",
            "__________________________________________________________________________________________________\n",
            "max_pooling2d_10 (MaxPooling2D) (None, 2, 3, 256)    0           leaky_re_lu_21[0][0]             \n",
            "__________________________________________________________________________________________________\n",
            "batch_normalization_10 (BatchNo (None, 2, 3, 256)    1024        max_pooling2d_10[0][0]           \n",
            "__________________________________________________________________________________________________\n",
            "conv2d_transpose_3 (Conv2DTrans (None, 6, 8, 11)     45056       batch_normalization_10[0][0]     \n",
            "__________________________________________________________________________________________________\n",
            "cropping2d_3 (Cropping2D)       (None, 4, 6, 11)     0           conv2d_transpose_3[0][0]         \n",
            "__________________________________________________________________________________________________\n",
            "conv2d_26 (Conv2D)              (None, 4, 6, 11)     2827        batch_normalization_9[0][0]      \n",
            "__________________________________________________________________________________________________\n",
            "add_2 (Add)                     (None, 4, 6, 11)     0           cropping2d_3[0][0]               \n",
            "                                                                 conv2d_26[0][0]                  \n",
            "__________________________________________________________________________________________________\n",
            "conv2d_transpose_4 (Conv2DTrans (None, 10, 14, 11)   1936        add_2[0][0]                      \n",
            "__________________________________________________________________________________________________\n",
            "cropping2d_4 (Cropping2D)       (None, 8, 12, 11)    0           conv2d_transpose_4[0][0]         \n",
            "__________________________________________________________________________________________________\n",
            "conv2d_27 (Conv2D)              (None, 8, 12, 11)    1419        batch_normalization_8[0][0]      \n",
            "__________________________________________________________________________________________________\n",
            "add_3 (Add)                     (None, 8, 12, 11)    0           cropping2d_4[0][0]               \n",
            "                                                                 conv2d_27[0][0]                  \n",
            "__________________________________________________________________________________________________\n",
            "conv2d_transpose_5 (Conv2DTrans (None, 64, 96, 11)   7744        add_3[0][0]                      \n",
            "__________________________________________________________________________________________________\n",
            "cropping2d_5 (Cropping2D)       (None, 64, 84, 11)   0           conv2d_transpose_5[0][0]         \n",
            "__________________________________________________________________________________________________\n",
            "activation_1 (Activation)       (None, 64, 84, 11)   0           cropping2d_5[0][0]               \n",
            "==================================================================================================\n",
            "Total params: 2,377,766\n",
            "Trainable params: 2,376,294\n",
            "Non-trainable params: 1,472\n",
            "__________________________________________________________________________________________________\n"
          ],
          "name": "stdout"
        }
      ]
    },
    {
      "cell_type": "markdown",
      "metadata": {
        "id": "mF4xh5lLwGv8"
      },
      "source": [
        "## Compile the model"
      ]
    },
    {
      "cell_type": "markdown",
      "metadata": {
        "id": "lfvLdbcFwMSw"
      },
      "source": [
        "I have used the **categorical cross entropy** loss function in conjunction with the all famous **Adam optimizer** to compile the above model."
      ]
    },
    {
      "cell_type": "code",
      "metadata": {
        "id": "g9UOtizNwLCx"
      },
      "source": [
        "model.compile(loss='categorical_crossentropy', optimizer='adam', metrics=['accuracy'])"
      ],
      "execution_count": 15,
      "outputs": []
    },
    {
      "cell_type": "markdown",
      "metadata": {
        "id": "2x5A1nnmwcgs"
      },
      "source": [
        "## Train the model"
      ]
    },
    {
      "cell_type": "code",
      "metadata": {
        "colab": {
          "base_uri": "https://localhost:8080/"
        },
        "id": "evcvgKGmwjLn",
        "outputId": "30a5864c-cb3e-4e31-dcf9-fbcec60bb1d2"
      },
      "source": [
        "EPOCHS = 75 \n",
        "\n",
        "steps_per_epoch = 4000//BATCH_SIZE\n",
        "validation_steps = 800//BATCH_SIZE\n",
        "test_steps = 200//BATCH_SIZE\n",
        "\n",
        "\n",
        "history = model.fit(training_dataset,\n",
        "                    steps_per_epoch=steps_per_epoch, validation_data=validation_dataset, validation_steps=validation_steps, epochs=EPOCHS)"
      ],
      "execution_count": 16,
      "outputs": [
        {
          "output_type": "stream",
          "text": [
            "Epoch 1/75\n",
            "125/125 [==============================] - 38s 39ms/step - loss: 1.0434 - accuracy: 0.6889 - val_loss: 0.4826 - val_accuracy: 0.9427\n",
            "Epoch 2/75\n",
            "125/125 [==============================] - 4s 34ms/step - loss: 0.2136 - accuracy: 0.9429 - val_loss: 0.4398 - val_accuracy: 0.9427\n",
            "Epoch 3/75\n",
            "125/125 [==============================] - 4s 34ms/step - loss: 0.1798 - accuracy: 0.9448 - val_loss: 0.2514 - val_accuracy: 0.9426\n",
            "Epoch 4/75\n",
            "125/125 [==============================] - 4s 34ms/step - loss: 0.1393 - accuracy: 0.9518 - val_loss: 0.2152 - val_accuracy: 0.9452\n",
            "Epoch 5/75\n",
            "125/125 [==============================] - 4s 33ms/step - loss: 0.1053 - accuracy: 0.9623 - val_loss: 0.0992 - val_accuracy: 0.9636\n",
            "Epoch 6/75\n",
            "125/125 [==============================] - 4s 34ms/step - loss: 0.0834 - accuracy: 0.9691 - val_loss: 0.0982 - val_accuracy: 0.9650\n",
            "Epoch 7/75\n",
            "125/125 [==============================] - 4s 34ms/step - loss: 0.0717 - accuracy: 0.9724 - val_loss: 0.0950 - val_accuracy: 0.9654\n",
            "Epoch 8/75\n",
            "125/125 [==============================] - 4s 34ms/step - loss: 0.0620 - accuracy: 0.9754 - val_loss: 0.0794 - val_accuracy: 0.9718\n",
            "Epoch 9/75\n",
            "125/125 [==============================] - 4s 34ms/step - loss: 0.0557 - accuracy: 0.9777 - val_loss: 0.0616 - val_accuracy: 0.9767\n",
            "Epoch 10/75\n",
            "125/125 [==============================] - 4s 34ms/step - loss: 0.0500 - accuracy: 0.9799 - val_loss: 0.0536 - val_accuracy: 0.9791\n",
            "Epoch 11/75\n",
            "125/125 [==============================] - 4s 33ms/step - loss: 0.0450 - accuracy: 0.9817 - val_loss: 0.0499 - val_accuracy: 0.9804\n",
            "Epoch 12/75\n",
            "125/125 [==============================] - 4s 34ms/step - loss: 0.0432 - accuracy: 0.9825 - val_loss: 0.0889 - val_accuracy: 0.9694\n",
            "Epoch 13/75\n",
            "125/125 [==============================] - 4s 34ms/step - loss: 0.0425 - accuracy: 0.9827 - val_loss: 0.0475 - val_accuracy: 0.9817\n",
            "Epoch 14/75\n",
            "125/125 [==============================] - 4s 34ms/step - loss: 0.0389 - accuracy: 0.9841 - val_loss: 0.0478 - val_accuracy: 0.9817\n",
            "Epoch 15/75\n",
            "125/125 [==============================] - 4s 33ms/step - loss: 0.0382 - accuracy: 0.9844 - val_loss: 0.0453 - val_accuracy: 0.9828\n",
            "Epoch 16/75\n",
            "125/125 [==============================] - 4s 34ms/step - loss: 0.0350 - accuracy: 0.9857 - val_loss: 0.0433 - val_accuracy: 0.9830\n",
            "Epoch 17/75\n",
            "125/125 [==============================] - 4s 34ms/step - loss: 0.0330 - accuracy: 0.9866 - val_loss: 0.0396 - val_accuracy: 0.9849\n",
            "Epoch 18/75\n",
            "125/125 [==============================] - 4s 34ms/step - loss: 0.0314 - accuracy: 0.9873 - val_loss: 0.0396 - val_accuracy: 0.9848\n",
            "Epoch 19/75\n",
            "125/125 [==============================] - 4s 33ms/step - loss: 0.0299 - accuracy: 0.9879 - val_loss: 0.0372 - val_accuracy: 0.9859\n",
            "Epoch 20/75\n",
            "125/125 [==============================] - 4s 34ms/step - loss: 0.0288 - accuracy: 0.9884 - val_loss: 0.0470 - val_accuracy: 0.9829\n",
            "Epoch 21/75\n",
            "125/125 [==============================] - 4s 33ms/step - loss: 0.0273 - accuracy: 0.9891 - val_loss: 0.0343 - val_accuracy: 0.9868\n",
            "Epoch 22/75\n",
            "125/125 [==============================] - 4s 34ms/step - loss: 0.0262 - accuracy: 0.9895 - val_loss: 0.0423 - val_accuracy: 0.9849\n",
            "Epoch 23/75\n",
            "125/125 [==============================] - 4s 34ms/step - loss: 0.0248 - accuracy: 0.9900 - val_loss: 0.0330 - val_accuracy: 0.9876\n",
            "Epoch 24/75\n",
            "125/125 [==============================] - 4s 34ms/step - loss: 0.0267 - accuracy: 0.9894 - val_loss: 0.0609 - val_accuracy: 0.9805\n",
            "Epoch 25/75\n",
            "125/125 [==============================] - 4s 34ms/step - loss: 0.0278 - accuracy: 0.9890 - val_loss: 0.0410 - val_accuracy: 0.9849\n",
            "Epoch 26/75\n",
            "125/125 [==============================] - 4s 34ms/step - loss: 0.0239 - accuracy: 0.9905 - val_loss: 0.0307 - val_accuracy: 0.9883\n",
            "Epoch 27/75\n",
            "125/125 [==============================] - 4s 34ms/step - loss: 0.0224 - accuracy: 0.9910 - val_loss: 0.0334 - val_accuracy: 0.9873\n",
            "Epoch 28/75\n",
            "125/125 [==============================] - 4s 34ms/step - loss: 0.0227 - accuracy: 0.9909 - val_loss: 0.0330 - val_accuracy: 0.9876\n",
            "Epoch 29/75\n",
            "125/125 [==============================] - 4s 33ms/step - loss: 0.0213 - accuracy: 0.9915 - val_loss: 0.0339 - val_accuracy: 0.9874\n",
            "Epoch 30/75\n",
            "125/125 [==============================] - 4s 34ms/step - loss: 0.0208 - accuracy: 0.9917 - val_loss: 0.0284 - val_accuracy: 0.9894\n",
            "Epoch 31/75\n",
            "125/125 [==============================] - 4s 33ms/step - loss: 0.0200 - accuracy: 0.9920 - val_loss: 0.0302 - val_accuracy: 0.9891\n",
            "Epoch 32/75\n",
            "125/125 [==============================] - 4s 34ms/step - loss: 0.0198 - accuracy: 0.9921 - val_loss: 0.0347 - val_accuracy: 0.9880\n",
            "Epoch 33/75\n",
            "125/125 [==============================] - 4s 34ms/step - loss: 0.0192 - accuracy: 0.9924 - val_loss: 0.0284 - val_accuracy: 0.9895\n",
            "Epoch 34/75\n",
            "125/125 [==============================] - 4s 33ms/step - loss: 0.0186 - accuracy: 0.9926 - val_loss: 0.0328 - val_accuracy: 0.9878\n",
            "Epoch 35/75\n",
            "125/125 [==============================] - 4s 34ms/step - loss: 0.0187 - accuracy: 0.9926 - val_loss: 0.0288 - val_accuracy: 0.9895\n",
            "Epoch 36/75\n",
            "125/125 [==============================] - 4s 34ms/step - loss: 0.0200 - accuracy: 0.9921 - val_loss: 0.0923 - val_accuracy: 0.9776\n",
            "Epoch 37/75\n",
            "125/125 [==============================] - 4s 34ms/step - loss: 0.0251 - accuracy: 0.9902 - val_loss: 0.0350 - val_accuracy: 0.9873\n",
            "Epoch 38/75\n",
            "125/125 [==============================] - 4s 34ms/step - loss: 0.0194 - accuracy: 0.9923 - val_loss: 0.0295 - val_accuracy: 0.9889\n",
            "Epoch 39/75\n",
            "125/125 [==============================] - 4s 34ms/step - loss: 0.0182 - accuracy: 0.9928 - val_loss: 0.0253 - val_accuracy: 0.9907\n",
            "Epoch 40/75\n",
            "125/125 [==============================] - 4s 34ms/step - loss: 0.0177 - accuracy: 0.9930 - val_loss: 0.0264 - val_accuracy: 0.9903\n",
            "Epoch 41/75\n",
            "125/125 [==============================] - 4s 34ms/step - loss: 0.0171 - accuracy: 0.9932 - val_loss: 0.0288 - val_accuracy: 0.9896\n",
            "Epoch 42/75\n",
            "125/125 [==============================] - 4s 34ms/step - loss: 0.0168 - accuracy: 0.9933 - val_loss: 0.0289 - val_accuracy: 0.9903\n",
            "Epoch 43/75\n",
            "125/125 [==============================] - 4s 34ms/step - loss: 0.0167 - accuracy: 0.9934 - val_loss: 0.0259 - val_accuracy: 0.9908\n",
            "Epoch 44/75\n",
            "125/125 [==============================] - 4s 34ms/step - loss: 0.0166 - accuracy: 0.9934 - val_loss: 0.0267 - val_accuracy: 0.9905\n",
            "Epoch 45/75\n",
            "125/125 [==============================] - 4s 34ms/step - loss: 0.0161 - accuracy: 0.9936 - val_loss: 0.0266 - val_accuracy: 0.9904\n",
            "Epoch 46/75\n",
            "125/125 [==============================] - 4s 34ms/step - loss: 0.0165 - accuracy: 0.9934 - val_loss: 0.0255 - val_accuracy: 0.9909\n",
            "Epoch 47/75\n",
            "125/125 [==============================] - 4s 34ms/step - loss: 0.0157 - accuracy: 0.9938 - val_loss: 0.0281 - val_accuracy: 0.9908\n",
            "Epoch 48/75\n",
            "125/125 [==============================] - 4s 34ms/step - loss: 0.0158 - accuracy: 0.9938 - val_loss: 0.0264 - val_accuracy: 0.9908\n",
            "Epoch 49/75\n",
            "125/125 [==============================] - 4s 34ms/step - loss: 0.0156 - accuracy: 0.9938 - val_loss: 0.0272 - val_accuracy: 0.9909\n",
            "Epoch 50/75\n",
            "125/125 [==============================] - 4s 34ms/step - loss: 0.0152 - accuracy: 0.9940 - val_loss: 0.0296 - val_accuracy: 0.9897\n",
            "Epoch 51/75\n",
            "125/125 [==============================] - 4s 35ms/step - loss: 0.0155 - accuracy: 0.9939 - val_loss: 0.0257 - val_accuracy: 0.9912\n",
            "Epoch 52/75\n",
            "125/125 [==============================] - 4s 35ms/step - loss: 0.0152 - accuracy: 0.9940 - val_loss: 0.0270 - val_accuracy: 0.9902\n",
            "Epoch 53/75\n",
            "125/125 [==============================] - 4s 34ms/step - loss: 0.0150 - accuracy: 0.9941 - val_loss: 0.0290 - val_accuracy: 0.9900\n",
            "Epoch 54/75\n",
            "125/125 [==============================] - 4s 34ms/step - loss: 0.0214 - accuracy: 0.9918 - val_loss: 0.0603 - val_accuracy: 0.9830\n",
            "Epoch 55/75\n",
            "125/125 [==============================] - 4s 34ms/step - loss: 0.0210 - accuracy: 0.9919 - val_loss: 0.0254 - val_accuracy: 0.9906\n",
            "Epoch 56/75\n",
            "125/125 [==============================] - 4s 34ms/step - loss: 0.0159 - accuracy: 0.9938 - val_loss: 0.0247 - val_accuracy: 0.9906\n",
            "Epoch 57/75\n",
            "125/125 [==============================] - 4s 35ms/step - loss: 0.0150 - accuracy: 0.9941 - val_loss: 0.0271 - val_accuracy: 0.9900\n",
            "Epoch 58/75\n",
            "125/125 [==============================] - 4s 34ms/step - loss: 0.0144 - accuracy: 0.9943 - val_loss: 0.0250 - val_accuracy: 0.9912\n",
            "Epoch 59/75\n",
            "125/125 [==============================] - 4s 34ms/step - loss: 0.0141 - accuracy: 0.9944 - val_loss: 0.0248 - val_accuracy: 0.9910\n",
            "Epoch 60/75\n",
            "125/125 [==============================] - 4s 35ms/step - loss: 0.0139 - accuracy: 0.9945 - val_loss: 0.0272 - val_accuracy: 0.9900\n",
            "Epoch 61/75\n",
            "125/125 [==============================] - 4s 34ms/step - loss: 0.0139 - accuracy: 0.9945 - val_loss: 0.0311 - val_accuracy: 0.9886\n",
            "Epoch 62/75\n",
            "125/125 [==============================] - 4s 34ms/step - loss: 0.0135 - accuracy: 0.9947 - val_loss: 0.0247 - val_accuracy: 0.9909\n",
            "Epoch 63/75\n",
            "125/125 [==============================] - 4s 35ms/step - loss: 0.0134 - accuracy: 0.9947 - val_loss: 0.0241 - val_accuracy: 0.9915\n",
            "Epoch 64/75\n",
            "125/125 [==============================] - 4s 34ms/step - loss: 0.0133 - accuracy: 0.9948 - val_loss: 0.0443 - val_accuracy: 0.9851\n",
            "Epoch 65/75\n",
            "125/125 [==============================] - 4s 34ms/step - loss: 0.0139 - accuracy: 0.9945 - val_loss: 0.0283 - val_accuracy: 0.9902\n",
            "Epoch 66/75\n",
            "125/125 [==============================] - 4s 34ms/step - loss: 0.0134 - accuracy: 0.9947 - val_loss: 0.0293 - val_accuracy: 0.9908\n",
            "Epoch 67/75\n",
            "125/125 [==============================] - 4s 35ms/step - loss: 0.0134 - accuracy: 0.9947 - val_loss: 0.0253 - val_accuracy: 0.9914\n",
            "Epoch 68/75\n",
            "125/125 [==============================] - 4s 35ms/step - loss: 0.0130 - accuracy: 0.9949 - val_loss: 0.0249 - val_accuracy: 0.9916\n",
            "Epoch 69/75\n",
            "125/125 [==============================] - 4s 34ms/step - loss: 0.0127 - accuracy: 0.9950 - val_loss: 0.0451 - val_accuracy: 0.9876\n",
            "Epoch 70/75\n",
            "125/125 [==============================] - 4s 34ms/step - loss: 0.0131 - accuracy: 0.9948 - val_loss: 0.0244 - val_accuracy: 0.9915\n",
            "Epoch 71/75\n",
            "125/125 [==============================] - 4s 34ms/step - loss: 0.0129 - accuracy: 0.9949 - val_loss: 0.0250 - val_accuracy: 0.9916\n",
            "Epoch 72/75\n",
            "125/125 [==============================] - 4s 34ms/step - loss: 0.0127 - accuracy: 0.9950 - val_loss: 0.0296 - val_accuracy: 0.9894\n",
            "Epoch 73/75\n",
            "125/125 [==============================] - 4s 34ms/step - loss: 0.0130 - accuracy: 0.9949 - val_loss: 0.0271 - val_accuracy: 0.9913\n",
            "Epoch 74/75\n",
            "125/125 [==============================] - 4s 34ms/step - loss: 0.0129 - accuracy: 0.9949 - val_loss: 0.0255 - val_accuracy: 0.9913\n",
            "Epoch 75/75\n",
            "125/125 [==============================] - 4s 35ms/step - loss: 0.0143 - accuracy: 0.9945 - val_loss: 0.0440 - val_accuracy: 0.9877\n"
          ],
          "name": "stdout"
        }
      ]
    },
    {
      "cell_type": "markdown",
      "metadata": {
        "id": "tlKWkYgXwsjO"
      },
      "source": [
        "## Define metrics of measure "
      ]
    },
    {
      "cell_type": "markdown",
      "metadata": {
        "id": "1SFdaPwAw-ng"
      },
      "source": [
        "Here, I will be writing a function that evaluates the model prediction in 2 ways:\n",
        "* Intersection Over Union (IOU) = $ \\frac{A_O}{A_U} $\n",
        "* Dice score: $ = 2\\cdot\\frac{A_O}{A_C} $\\\n",
        "Where $A_O$ is the area of **overlap**, $A_U$ is the area of **union** and $A_C$ is the **combined** area.\\\n",
        "A small smoothing factor is introduced in the denominators to prevent possible division by zero."
      ]
    },
    {
      "cell_type": "code",
      "metadata": {
        "id": "gKTpLmly_RXb"
      },
      "source": [
        "def class_wise_metrics(y_true, y_pred):\n",
        "  '''\n",
        "  Computes the class-wise IOU and Dice Score.\n",
        "\n",
        "  Args:\n",
        "    y_true (tensor) - ground truth label maps\n",
        "    y_pred (tensor) - predicted label maps\n",
        "  '''\n",
        "  class_wise_iou = []\n",
        "  class_wise_dice_score = []\n",
        "\n",
        "  smoothing_factor = 0.00001\n",
        "\n",
        "  for i in range(n_classes):\n",
        "    intersection = np.sum((y_pred == i) * (y_true == i))\n",
        "    y_true_area = np.sum((y_true == i))\n",
        "    y_pred_area = np.sum((y_pred == i))\n",
        "    combined_area = y_true_area + y_pred_area\n",
        "    \n",
        "    iou = (intersection) / (combined_area - intersection + smoothing_factor)\n",
        "    class_wise_iou.append(iou)\n",
        "    \n",
        "    dice_score =  2 * ((intersection) / (combined_area + smoothing_factor))\n",
        "    class_wise_dice_score.append(dice_score)\n",
        "\n",
        "  return class_wise_iou, class_wise_dice_score\n"
      ],
      "execution_count": 21,
      "outputs": []
    },
    {
      "cell_type": "code",
      "metadata": {
        "id": "KXIvPAC7wvQq"
      },
      "source": [
        "def class_wise_metrics(y_true, y_pred):\n",
        "  '''\n",
        "  Computes the class-wise IOU and Dice Score.\n",
        "  Input:\n",
        "    -y_true (tensor) - ground truth label maps\n",
        "    -y_pred (tensor) - predicted label maps\n",
        "  '''\n",
        "  class_wise_iou = []\n",
        "  class_wise_dice_score = []\n",
        "\n",
        "  smoothing_factor = 0.00001\n",
        "\n",
        "  for i in range(n_classes):\n",
        "    intersection = np.sum((y_pred == i) * (y_true == i))\n",
        "    y_true_area = np.sum((y_true == i))\n",
        "    y_pred_area = np.sum((y_pred == i))\n",
        "    combined_area = y_true_area + y_pred_area\n",
        "    \n",
        "    iou = (intersection) / (combined_area - intersection + smoothing_factor)\n",
        "    class_wise_iou.append(iou)\n",
        "    \n",
        "    dice_score =  2 * ((intersection) / (combined_area + smoothing_factor))\n",
        "    class_wise_dice_score.append(dice_score)\n",
        "\n",
        "    return class_wise_iou, class_wise_dice_score\n"
      ],
      "execution_count": 48,
      "outputs": []
    },
    {
      "cell_type": "markdown",
      "metadata": {
        "id": "5sy7FFoK5_IP"
      },
      "source": [
        "## Model evaluation"
      ]
    },
    {
      "cell_type": "markdown",
      "metadata": {
        "id": "83SeGcqi8AAr"
      },
      "source": [
        "Print the shape of the results"
      ]
    },
    {
      "cell_type": "code",
      "metadata": {
        "colab": {
          "base_uri": "https://localhost:8080/"
        },
        "id": "lxbq8oTv6DL-",
        "outputId": "78e684fd-aa71-4eb7-8256-6876eece879e"
      },
      "source": [
        "results = model.predict(test_dataset, steps=test_steps)\n",
        "\n",
        "print(results.shape)"
      ],
      "execution_count": 22,
      "outputs": [
        {
          "output_type": "stream",
          "text": [
            "(192, 64, 84, 11)\n"
          ],
          "name": "stdout"
        }
      ]
    },
    {
      "cell_type": "markdown",
      "metadata": {
        "id": "kFNadUQc8Hqz"
      },
      "source": [
        "For each of the 192 images that we have in our test set, there are 11 predictions generated (i.e. one for each class: 0 to 1 plus background).\n",
        "\n"
      ]
    },
    {
      "cell_type": "markdown",
      "metadata": {
        "id": "VwtjJXkT8QGo"
      },
      "source": [
        "We're interested in is to get the index of the highest probability of each of these 11 slices and combine them in a single image."
      ]
    },
    {
      "cell_type": "code",
      "metadata": {
        "colab": {
          "base_uri": "https://localhost:8080/"
        },
        "id": "FteWYSBj6Qti",
        "outputId": "6b11ece0-56c3-46cc-a3ac-d7907bed9ee3"
      },
      "source": [
        "results = np.argmax(results, axis=3)\n",
        "\n",
        "print(results.shape)"
      ],
      "execution_count": 23,
      "outputs": [
        {
          "output_type": "stream",
          "text": [
            "(192, 64, 84)\n"
          ],
          "name": "stdout"
        }
      ]
    },
    {
      "cell_type": "markdown",
      "metadata": {
        "id": "TnZX2DAZzApW"
      },
      "source": [
        "## Visualize predictions"
      ]
    },
    {
      "cell_type": "code",
      "metadata": {
        "colab": {
          "base_uri": "https://localhost:8080/",
          "height": 232
        },
        "id": "ANK53r0uzCxt",
        "outputId": "8943d516-bb77-48d7-e2bb-3fe8bc72a7eb"
      },
      "source": [
        "integer_slider = 105\n",
        "\n",
        "ds = test_dataset.unbatch()\n",
        "ds = ds.batch(200)\n",
        "images = []\n",
        "\n",
        "y_true_segments = []\n",
        "for image, annotation in ds.take(2):\n",
        "  y_true_segments = annotation\n",
        "  images = image\n",
        "  \n",
        "  \n",
        "iou, dice_score = class_wise_metrics(np.argmax(y_true_segments[integer_slider], axis=2), results[integer_slider])  \n",
        "show_annotation_and_prediction(image[integer_slider], annotation[integer_slider], results[integer_slider], iou, dice_score)\n"
      ],
      "execution_count": 24,
      "outputs": [
        {
          "output_type": "display_data",
          "data": {
            "image/png": "[encoded data removed]",
            "text/plain": [
              "<Figure size 1080x288 with 3 Axes>"
            ]
          },
          "metadata": {
            "tags": []
          }
        }
      ]
    },
    {
      "cell_type": "markdown",
      "metadata": {
        "id": "8nvThyQkzH1A"
      },
      "source": [
        "## Compute IOU and dice score of our model"
      ]
    },
    {
      "cell_type": "code",
      "metadata": {
        "colab": {
          "base_uri": "https://localhost:8080/"
        },
        "id": "EAxXBSQzzLBt",
        "outputId": "d8c3730c-ba85-40b0-e282-cbb7538fd5b8"
      },
      "source": [
        "cls_wise_iou, cls_wise_dice_score = class_wise_metrics(np.argmax(y_true_segments, axis=3), results)\n",
        "\n",
        "average_iou = 0.0\n",
        "for idx, (iou, dice_score) in enumerate(zip(cls_wise_iou[:-1], cls_wise_dice_score[:-1])):\n",
        "  print(\"Digit {}: IOU: {} Dice Score: {}\".format(idx, iou, dice_score)) \n",
        "  average_iou += iou\n",
        "\n",
        "av_iou_perc = average_iou * 10\n",
        "\n",
        "print(\"\\nAverage IOU score is \"+str(av_iou_perc))\n"
      ],
      "execution_count": 26,
      "outputs": [
        {
          "output_type": "stream",
          "text": [
            "Digit 0: IOU: 0.85624211745745 Dice Score: 0.9225543471993517\n",
            "Digit 1: IOU: 0.8763310724193344 Dice Score: 0.9340900284611248\n",
            "Digit 2: IOU: 0.803536344789371 Dice Score: 0.891067537519698\n",
            "Digit 3: IOU: 0.767716946752102 Dice Score: 0.868597145219046\n",
            "Digit 4: IOU: 0.7952086537959647 Dice Score: 0.8859233739927643\n",
            "Digit 5: IOU: 0.7692568126472714 Dice Score: 0.8695818573633319\n",
            "Digit 6: IOU: 0.84148090100185 Dice Score: 0.913917598107095\n",
            "Digit 7: IOU: 0.8186681672269912 Dice Score: 0.9002941624862253\n",
            "Digit 8: IOU: 0.8195615501769714 Dice Score: 0.9008341048944022\n",
            "Digit 9: IOU: 0.8097140105292955 Dice Score: 0.8948530053016218\n",
            "\n",
            "Average IOU score is 81.57716576796602\n"
          ],
          "name": "stdout"
        }
      ]
    }
  ]
}